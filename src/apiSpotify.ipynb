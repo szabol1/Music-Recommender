{
 "cells": [
  {
   "cell_type": "code",
   "execution_count": 5,
   "metadata": {},
   "outputs": [
    {
     "name": "stdout",
     "output_type": "stream",
     "text": [
      "Unexpected error: 'NoneType' object is not subscriptable\n"
     ]
    }
   ],
   "source": [
    "import spotipy\n",
    "from spotipy.oauth2 import SpotifyOAuth\n",
    "\n",
    "access_key = \"BQCEBxy7nnWRMmOMKh8czBzunWnJrecSzjTQKaddbv_uxK3hHS-nMc3w7msDF7LUvHWAF2u83BYQFIatzH_3IQHbXC8hVb83LNfLLKd-ZHeuTqGtLS8\";# this will expire and need to be updated\n",
    "client_id = \"871b7182f56b41e98864ba7675511134\"\n",
    "client_secret = \"9433c21a4ccb42e8a9fafe5a1f86e0da\"\n",
    "\n",
    "\n",
    "\n",
    "cache_path = \"cached_token.txt\" #this is all to just update my personal token information to use spoify API \n",
    "\n",
    "sp_oauth = SpotifyOAuth(\n",
    "    client_id=client_id,\n",
    "    client_secret=client_secret,\n",
    "    redirect_uri=\"http://localhost:3000\",\n",
    "    scope=\"user-top-read\",\n",
    "    cache_path=cache_path\n",
    ")\n",
    "\n",
    "try:\n",
    "    # Attempt to load cached token\n",
    "    token_info = sp_oauth.get_cached_token()\n",
    "\n",
    "    # Refresh token if needed\n",
    "    if token_info and sp_oauth.is_token_expired(token_info):\n",
    "        token_info = sp_oauth.refresh_access_token(token_info[\"refresh_token\"])\n",
    "\n",
    "    # Create Spotify object with valid access token\n",
    "    spotifyToken = spotipy.Spotify(auth=token_info[\"access_token\"])\n",
    "\n",
    "   \n",
    "\n",
    "except spotipy.SpotifyException as e:\n",
    "    print(\"Spotify error:\", e)\n",
    "    # Handle Spotify-specific errors (e.g., re-authentication)\n",
    "except Exception as ex:\n",
    "    print(\"Unexpected error:\", ex)\n",
    "    # Handle other unexpected errors\n",
    "\n",
    "\n",
    "sp = spotipy.Spotify(auth_manager=SpotifyOAuth(client_id= client_id,client_secret=client_secret, redirect_uri=\"http://localhost:3000\", scope=\"user-library-read\"))\n",
    "\n"
   ]
  }
 ],
 "metadata": {
  "kernelspec": {
   "display_name": "Python 3",
   "language": "python",
   "name": "python3"
  },
  "language_info": {
   "codemirror_mode": {
    "name": "ipython",
    "version": 3
   },
   "file_extension": ".py",
   "mimetype": "text/x-python",
   "name": "python",
   "nbconvert_exporter": "python",
   "pygments_lexer": "ipython3",
   "version": "3.11.1"
  }
 },
 "nbformat": 4,
 "nbformat_minor": 2
}
